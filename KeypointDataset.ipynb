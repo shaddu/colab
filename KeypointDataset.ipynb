{
  "nbformat": 4,
  "nbformat_minor": 0,
  "metadata": {
    "colab": {
      "provenance": [],
      "include_colab_link": true
    },
    "kernelspec": {
      "name": "python3",
      "display_name": "Python 3"
    },
    "language_info": {
      "name": "python"
    }
  },
  "cells": [
    {
      "cell_type": "markdown",
      "metadata": {
        "id": "view-in-github",
        "colab_type": "text"
      },
      "source": [
        "<a href=\"https://colab.research.google.com/github/shaddu/colab/blob/main/KeypointDataset.ipynb\" target=\"_parent\"><img src=\"https://colab.research.google.com/assets/colab-badge.svg\" alt=\"Open In Colab\"/></a>"
      ]
    },
    {
      "cell_type": "markdown",
      "source": [
        "# Supervision PR `#<PR_number>`\n",
        "\n",
        "⚠️ Please make a copy of this template before starting work!\n",
        "`File` -> `Save a copy in Drive`.\n",
        "\n",
        "> Please share this Colab with minimal code to test the new features. We know it's additional work, but it will speed up the review process. The reviewer must test each change. Setting up a local environment to do this is time-consuming. Please ensure that Google Colab can be accessed without any issues (make it public). Thank you! 🙏🏻\n",
        "\n",
        "You may learn about supervision here:\n",
        "* [supervision docs](https://supervision.roboflow.com/latest/)\n",
        "* [supervision cheatsheet](https://roboflow.github.io/cheatsheet-supervision/)\n",
        "\n",
        "Completed checklist at the end: <input type=\"checkbox\"/>"
      ],
      "metadata": {
        "id": "dQqm7m_vuD2d"
      }
    },
    {
      "cell_type": "markdown",
      "source": [
        "# Install Dependencies"
      ],
      "metadata": {
        "id": "mUm38zGh0zZS"
      }
    },
    {
      "cell_type": "code",
      "source": [
        "# Replace 'roboflow' with your GitHub username or org name\n",
        "# Replace 'develop' with your own branch\n",
        "!pip install \"supervision[assets] @ git+https://github.com/roboflow/supervision.git@develop\" -q\n",
        "!pip install inference -q"
      ],
      "metadata": {
        "colab": {
          "base_uri": "https://localhost:8080/"
        },
        "id": "z1WaNATwvDj8",
        "outputId": "059a1333-c625-4eab-ab1a-c7aee660ca5e"
      },
      "execution_count": null,
      "outputs": [
        {
          "output_type": "stream",
          "name": "stdout",
          "text": [
            "  Installing build dependencies ... \u001b[?25l\u001b[?25hdone\n",
            "  Getting requirements to build wheel ... \u001b[?25l\u001b[?25hdone\n",
            "  Preparing metadata (pyproject.toml) ... \u001b[?25l\u001b[?25hdone\n"
          ]
        }
      ]
    },
    {
      "cell_type": "code",
      "source": [
        "import cv2\n",
        "import numpy as np\n",
        "import supervision as sv\n",
        "from inference import get_model"
      ],
      "metadata": {
        "id": "OYEc88oA1gFj"
      },
      "execution_count": null,
      "outputs": []
    },
    {
      "cell_type": "markdown",
      "source": [
        "# Load assets (multiple options)\n",
        "This section shows multiple methods for loading assets.\n",
        "\n",
        "Feel free to use any images or videos you like, and delete any code you don't need."
      ],
      "metadata": {
        "id": "Hcx0sA9F3EUJ"
      }
    },
    {
      "cell_type": "code",
      "source": [
        "# Load a local image\n",
        "image = cv2.imread(\"path/to/image.png\")"
      ],
      "metadata": {
        "id": "ev7aBbPOy0Bx"
      },
      "execution_count": null,
      "outputs": []
    },
    {
      "cell_type": "code",
      "source": [
        "# Load test image\n",
        "!wget https://media.roboflow.com/notebooks/examples/dog.jpeg -q\n",
        "image = cv2.imread(\"dog.jpeg\")"
      ],
      "metadata": {
        "id": "GYqrcQPs5ey-"
      },
      "execution_count": null,
      "outputs": []
    },
    {
      "cell_type": "code",
      "source": [
        "# Load test videos\n",
        "from supervision.assets import download_assets, VideoAssets\n",
        "\n",
        "download_assets(VideoAssets.PEOPLE_WALKING)\n",
        "video_path = VideoAssets.PEOPLE_WALKING.value"
      ],
      "metadata": {
        "id": "YvMvJgAr0yyd"
      },
      "execution_count": null,
      "outputs": []
    },
    {
      "cell_type": "code",
      "source": [
        "# Get first frame\n",
        "frame_generator = sv.get_video_frames_generator(VideoAssets.PEOPLE_WALKING.value)\n",
        "first_frame = next(frame_generator)\n",
        "frame_generator.close()"
      ],
      "metadata": {
        "id": "6rNCdfxN27Ix"
      },
      "execution_count": null,
      "outputs": []
    },
    {
      "cell_type": "code",
      "source": [
        "# Loop over video frames\n",
        "frame_generator = sv.get_video_frames_generator(video_path)\n",
        "for frame in frame_generator:\n",
        "    # ...\n",
        "    pass"
      ],
      "metadata": {
        "id": "p9x3fCML3zx7"
      },
      "execution_count": null,
      "outputs": []
    },
    {
      "cell_type": "markdown",
      "source": [
        "## Run Model"
      ],
      "metadata": {
        "id": "oC5dMGp538zu"
      }
    },
    {
      "cell_type": "code",
      "source": [
        "# Models: https://inference.roboflow.com/quickstart/aliases/\n",
        "model = get_model(\"yolov8m-640\")\n",
        "\n",
        "assert image is not None, \"No image loaded\"\n",
        "results = model.infer(image)[0]\n",
        "detections = sv.Detections.from_inference(results)"
      ],
      "metadata": {
        "id": "ZLj7s7FA28vy"
      },
      "execution_count": null,
      "outputs": []
    },
    {
      "cell_type": "code",
      "source": [
        "box_annotator = sv.BoxAnnotator()\n",
        "label_annotator = sv.LabelAnnotator()\n",
        "\n",
        "annotated_frame = box_annotator.annotate(scene=image, detections=detections)\n",
        "annotated_frame = label_annotator.annotate(scene=annotated_frame, detections=detections)\n",
        "\n",
        "sv.plot_image(annotated_frame)"
      ],
      "metadata": {
        "id": "rYMV5aR94WGA"
      },
      "execution_count": null,
      "outputs": []
    },
    {
      "cell_type": "code",
      "source": [],
      "metadata": {
        "id": "oepeIZdZ4mB3"
      },
      "execution_count": null,
      "outputs": []
    },
    {
      "cell_type": "code",
      "source": [],
      "metadata": {
        "id": "BWek8kte4l67"
      },
      "execution_count": null,
      "outputs": []
    },
    {
      "cell_type": "code",
      "source": [],
      "metadata": {
        "id": "gaeVAxdH4lxr"
      },
      "execution_count": null,
      "outputs": []
    },
    {
      "cell_type": "code",
      "source": [],
      "metadata": {
        "id": "PSnRhLNu4wGK"
      },
      "execution_count": null,
      "outputs": []
    },
    {
      "cell_type": "code",
      "source": [],
      "metadata": {
        "id": "1bRzydhx4wB6"
      },
      "execution_count": null,
      "outputs": []
    },
    {
      "cell_type": "markdown",
      "source": [
        "# Checklist:\n",
        "Completing this checklist will expedite the PR review process.\n",
        "\n",
        "<input type=\"checkbox\"/> Tested with basic inputs\n",
        "\n",
        "<input type=\"checkbox\"/> Tested with older inputs (if changing)\n",
        "\n",
        "<input type=\"checkbox\"/> Tested with empty values, for example:\n",
        "  - Empty list `[]`\n",
        "  - No detections `Detections.empty()`\n",
        "  - Empty image `np.zeros((width, height, 3), dtype=np.uint8)`\n",
        "\n",
        "<input type=\"checkbox\"/> Is the Colab notebook publicly accessible?\n",
        "  - Navigate to `Share` -> `General Access` -> `Anyone with the Link` -> `Commenter`. Then copy the link into the PR."
      ],
      "metadata": {
        "id": "ZHptw0Fk4lk4"
      }
    }
  ]
}